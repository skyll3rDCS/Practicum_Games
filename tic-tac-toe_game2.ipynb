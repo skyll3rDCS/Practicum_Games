{
 "cells": [
  {
   "cell_type": "code",
   "execution_count": 1,
   "id": "4938826e",
   "metadata": {},
   "outputs": [
    {
     "name": "stdout",
     "output_type": "stream",
     "text": [
      "Игрок O победил!\n",
      "Игрок X победил!\n"
     ]
    }
   ],
   "source": [
    "import tkinter as tk\n",
    "\n",
    "current_player = \"X\"\n",
    "\n",
    "game_board = [[\"\", \"\", \"\"],\n",
    "              [\"\", \"\", \"\"],\n",
    "              [\"\", \"\", \"\"]]\n",
    "\n",
    "# Функция для обработки клика на кнопку (ход игрока)\n",
    "def button_click(r, c):\n",
    "    global current_player\n",
    "    if game_board[r][c] == \"\":\n",
    "        game_board[r][c] = current_player\n",
    "        button[r][c].config(text=current_player)\n",
    "        \n",
    "        # Проверка условия победы\n",
    "        if check_win(current_player):\n",
    "            print(f\"Игрок {current_player} победил!\")\n",
    "            reset_game()\n",
    "        elif check_draw():\n",
    "            print('Ничья!')\n",
    "            reset_game()\n",
    "        else:\n",
    "            current_player = \"O\" if current_player == \"X\" else \"X\" # Смена игрока\n",
    "\n",
    "def check_win(player):\n",
    "    for i in range(3):\n",
    "        if game_board[i][0] == game_board[i][1] == game_board[i][2] == player:\n",
    "            return True\n",
    "        if game_board[0][i] == game_board[1][i] == game_board[2][i] == player:\n",
    "            return True\n",
    "    if game_board[0][0] == game_board[1][1] == game_board[2][2] == player:\n",
    "        return True\n",
    "    if game_board[0][2] == game_board[1][1] == game_board[2][0] == player:\n",
    "        return True\n",
    "    return False\n",
    "\n",
    "def check_draw():\n",
    "    for row in game_board:\n",
    "        if \"\" in row:\n",
    "            return False\n",
    "    return True\n",
    "\n",
    "def reset_game():\n",
    "    global current_player, game_board\n",
    "    current_player = \"X\"\n",
    "    game_board = [[\"\", \"\", \"\"],\n",
    "                  [\"\", \"\", \"\"],\n",
    "                  [\"\", \"\", \"\"]]\n",
    "    for i in range(3):\n",
    "        for j in range(3):\n",
    "            button[i][j].config(text=\"\")\n",
    "\n",
    "# Создание графического интерфейса с использованием Tkinter\n",
    "root = tk.Tk()\n",
    "root.title(\"Tic-Tac-Toe\")\n",
    "\n",
    "button = []\n",
    "for i in range(3):\n",
    "    row = []\n",
    "    for j in range(3):\n",
    "        btn = tk.Button(root, text=\"\", width=5, height=4,\n",
    "                        command=lambda row=i, col=j: button_click(row, col))\n",
    "        btn.grid(row=i, column=j)\n",
    "        row.append(btn)\n",
    "    button.append(row)\n",
    "\n",
    "root.mainloop()"
   ]
  },
  {
   "cell_type": "code",
   "execution_count": null,
   "id": "1317cfcc",
   "metadata": {},
   "outputs": [],
   "source": []
  }
 ],
 "metadata": {
  "kernelspec": {
   "display_name": "Python 3",
   "language": "python",
   "name": "python3"
  },
  "language_info": {
   "codemirror_mode": {
    "name": "ipython",
    "version": 3
   },
   "file_extension": ".py",
   "mimetype": "text/x-python",
   "name": "python",
   "nbconvert_exporter": "python",
   "pygments_lexer": "ipython3",
   "version": "3.8.8"
  }
 },
 "nbformat": 4,
 "nbformat_minor": 5
}
